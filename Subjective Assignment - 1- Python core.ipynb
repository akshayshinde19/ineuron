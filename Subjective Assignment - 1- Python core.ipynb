{
 "cells": [
  {
   "cell_type": "markdown",
   "metadata": {},
   "source": [
    "Q1. Write a Python program to get the string from the given string where\n",
    "all the occurrence of its first char has been changed to '$,' except first\n",
    "char itself?\n",
    "\n",
    "    Sample String: 'prospect'\n",
    "    Expected Result : 'pros$ect'\n"
   ]
  },
  {
   "cell_type": "code",
   "execution_count": 2,
   "metadata": {},
   "outputs": [
    {
     "name": "stdout",
     "output_type": "stream",
     "text": [
      "Enter a stringprospect\n",
      "pros$ect\n"
     ]
    }
   ],
   "source": [
    "inputstring = input(\"Enter a string\")\n",
    "outputstring=\"\"\n",
    "for i in inputstring:\n",
    "   # print(i)\n",
    "    if(i==inputstring[0]):\n",
    "        outputstring+=\"$\"\n",
    "    else:\n",
    "        outputstring+=i\n",
    "        \n",
    "#outputstring[0]=inputstring[0]\n",
    "print(inputstring[0]+outputstring[1:])"
   ]
  },
  {
   "cell_type": "markdown",
   "metadata": {},
   "source": [
    "Q2. Write a Python program to get the single string from the two given\n",
    "strings, and separated by the space and swap the first two characters of\n",
    "each string?\n",
    "\n",
    "    Sample String : 'abc', 'xyz'.\n",
    "    Expected Result: 'xyc abz'"
   ]
  },
  {
   "cell_type": "code",
   "execution_count": 29,
   "metadata": {},
   "outputs": [
    {
     "name": "stdout",
     "output_type": "stream",
     "text": [
      "Enter 1st string: abc\n",
      "Enter 2nd string: xyz\n",
      "xyc abz\n"
     ]
    }
   ],
   "source": [
    "string1=input(\"Enter 1st string: \")\n",
    "string2=input(\"Enter 2nd string: \")\n",
    "finalstring=string2[0:2]+string1[2:]+\" \"+string1[0:2]+string2[2:]\n",
    "print(finalstring)\n",
    "\n"
   ]
  },
  {
   "cell_type": "markdown",
   "metadata": {},
   "source": [
    "Q3. Write the Python program to add 'ing' at the end of the given string\n",
    "(length of the string should be at least 3). If given string already ends\n",
    "with 'ing,' then add 'ly' instead. If string length of the given string is less\n",
    "than 3, leave it unchanged?\n",
    "\n",
    "\n",
    "    Sample string: ' abc '\n",
    "    Expected result: ' abcing '\n",
    "    Sample string: ' string '\n",
    "    Expected result: ' stringly '\n"
   ]
  },
  {
   "cell_type": "code",
   "execution_count": 32,
   "metadata": {},
   "outputs": [
    {
     "name": "stdout",
     "output_type": "stream",
     "text": [
      "abcing\n",
      "stringly\n"
     ]
    }
   ],
   "source": [
    "def addingorly(s):\n",
    "    if(len(s)<3):\n",
    "        return s\n",
    "    else:\n",
    "        if(s[-3:]==\"ing\"):\n",
    "            return s+\"ly\"\n",
    "        else:\n",
    "            return s+\"ing\"\n",
    "\n",
    "print(addingorly(\"abc\"))\n",
    "print(addingorly(\"string\"))"
   ]
  },
  {
   "cell_type": "markdown",
   "metadata": {},
   "source": [
    "Q4. Write the Python program to find the first appearance of the\n",
    "substring 'not' and 'poor' from the given string, if 'not' follows the 'poor',\n",
    "replace the whole 'not'...' poor' substring with 'good'.Return the resulting\n",
    "string.\n",
    "\n",
    "    Sample string: 'The lyrics are not that poor!'\n",
    "    'The lyrics are poor!'\n",
    "    Expected Result: 'The lyrics are good!'\n",
    "    'The lyrics are poor!'"
   ]
  },
  {
   "cell_type": "code",
   "execution_count": 34,
   "metadata": {},
   "outputs": [
    {
     "data": {
      "text/plain": [
       "'The lyrics are good!The lyrics are poor!'"
      ]
     },
     "execution_count": 34,
     "metadata": {},
     "output_type": "execute_result"
    }
   ],
   "source": [
    "def modifyreviews(s):\n",
    "    if((s.find(\"not\")==-1) or (s.find(\"poor\")==-1)):\n",
    "        return s\n",
    "    if ((s.index(\"not\")) < (s.index(\"poor\"))):\n",
    "        return s[0:s.index(\"not\")]+\"good\"+s[s.index(\"poor\")+4:]\n",
    "    else:\n",
    "        return s\n",
    "            \n",
    "    \n",
    "    \n",
    "modifyreviews('The lyrics are not that poor!'\n",
    "    'The lyrics are poor!')"
   ]
  },
  {
   "cell_type": "markdown",
   "metadata": {},
   "source": [
    "Q5. Write the Python program to remove the characters which have odd\n",
    "index values of a given string."
   ]
  },
  {
   "cell_type": "code",
   "execution_count": 37,
   "metadata": {},
   "outputs": [
    {
     "data": {
      "text/plain": [
       "'wihhv d ne auso  ie tig'"
      ]
     },
     "execution_count": 37,
     "metadata": {},
     "output_type": "execute_result"
    }
   ],
   "source": [
    "def removeoddindex(s):\n",
    "    final=\"\"\n",
    "    for i in range(0,len(s)):\n",
    "        if(i%2==0):\n",
    "            final+=s[i]\n",
    "        \n",
    "    return final\n",
    "\n",
    "removeoddindex(\"which have odd index values of a given string.\")\n",
    "        "
   ]
  },
  {
   "cell_type": "markdown",
   "metadata": {},
   "source": [
    "Q6. Write the python program to print the following floating numbers up\n",
    "to 2 decimal places?"
   ]
  },
  {
   "cell_type": "code",
   "execution_count": 50,
   "metadata": {},
   "outputs": [
    {
     "name": "stdout",
     "output_type": "stream",
     "text": [
      "3.57\n"
     ]
    }
   ],
   "source": [
    "def upto2decimals(n):\n",
    "    n=float(n)    \n",
    "    print(\"%.2f\" %n)\n",
    "    \n",
    "upto2decimals(\"3.5656\")"
   ]
  },
  {
   "cell_type": "markdown",
   "metadata": {},
   "source": [
    "Q7. Write the Python program to format a number with a percentage?"
   ]
  },
  {
   "cell_type": "code",
   "execution_count": 56,
   "metadata": {},
   "outputs": [
    {
     "name": "stdout",
     "output_type": "stream",
     "text": [
      " 33.00%\n"
     ]
    }
   ],
   "source": [
    "def formatwithpercentage(n):\n",
    "    n=float(n)\n",
    "    print(\"\", \"{:.2%}\".format(n))\n",
    "    \n",
    "formatwithpercentage(\"0.33\")    "
   ]
  },
  {
   "cell_type": "markdown",
   "metadata": {},
   "source": [
    "Q8. Write the Python program to count occurrences of a substring in a\n",
    "String?"
   ]
  },
  {
   "cell_type": "code",
   "execution_count": 60,
   "metadata": {},
   "outputs": [
    {
     "name": "stdout",
     "output_type": "stream",
     "text": [
      "3\n"
     ]
    }
   ],
   "source": [
    "s1=\"this is a sub called maths sub from all subject\"\n",
    "\n",
    "print(s1.count('sub'))\n"
   ]
  },
  {
   "cell_type": "markdown",
   "metadata": {},
   "source": [
    "Q9. Write the Python program to count repeated characters in a string.\n",
    "\n",
    "    Sample string: ' thequickbrownjumpsoverthelazydog '\n",
    "    \n",
    "    Expected output:\n",
    "    o 3\n",
    "    e 3\n",
    "    u 2\n",
    "    h 2\n",
    "    r 2\n",
    "    t 2"
   ]
  },
  {
   "cell_type": "code",
   "execution_count": 68,
   "metadata": {},
   "outputs": [
    {
     "name": "stdout",
     "output_type": "stream",
     "text": [
      "h 2\n",
      "t 2\n",
      "o 3\n",
      "u 2\n",
      "e 3\n",
      "r 2\n"
     ]
    }
   ],
   "source": [
    "s1 =\"thequickbrownjumpsoverthelazydog\"\n",
    "set1=set(s1)\n",
    "for i in set1:\n",
    "    if(s1.count(i)>1):\n",
    "        print(i+\" \"+str(s1.count(i)))  \n",
    "    "
   ]
  },
  {
   "cell_type": "markdown",
   "metadata": {},
   "source": [
    "Q10. Write the Python program to print the square and cube symbol in\n",
    "the area of a rectangle and volume of a cylinder?\n",
    "\n",
    "    Sample outputThe area of the rectangle is 1256.66cm2\n",
    "    The volume of the cylinder is 1254.725cm3\n"
   ]
  },
  {
   "cell_type": "code",
   "execution_count": 3,
   "metadata": {},
   "outputs": [
    {
     "name": "stdout",
     "output_type": "stream",
     "text": [
      "6 1539.3804002589986\n"
     ]
    }
   ],
   "source": [
    "import math\n",
    "\n",
    "\n",
    "    \n",
    "area=(lambda l, b : l * b)(2,3)\n",
    "\n",
    "vol=(lambda r,h: math.pi*r**2*h)(7,10)\n",
    "\n",
    "print(area, vol)\n",
    "    "
   ]
  },
  {
   "cell_type": "markdown",
   "metadata": {},
   "source": [
    "Q11. Write the Python program to check if a string contains all letters of\n",
    "the alphabet?"
   ]
  },
  {
   "cell_type": "code",
   "execution_count": 13,
   "metadata": {},
   "outputs": [
    {
     "name": "stdout",
     "output_type": "stream",
     "text": [
      "does not contain all letters\n"
     ]
    }
   ],
   "source": [
    "str1=\"abcdefpqrstuvwxyzdfgert@##$%^ghjhILJKHGKBNMGBMHHKJ]\"\n",
    "\n",
    "str2=str1.lower()\n",
    "\n",
    "\n",
    "for i in \"abcdefghijklmnopqrstuvwxyz\":\n",
    "    if( i in str2):\n",
    "        if(i=='z'):\n",
    "            print(\"contains all letters\")\n",
    "            break\n",
    "        continue;\n",
    "    else:\n",
    "        print(\"does not contain all letters\")\n",
    "        break\n",
    "    \n",
    "    \n"
   ]
  },
  {
   "cell_type": "markdown",
   "metadata": {},
   "source": [
    "Q12. Write the Python program to find the second most repeated word\n",
    "in a given string?"
   ]
  },
  {
   "cell_type": "code",
   "execution_count": 65,
   "metadata": {},
   "outputs": [
    {
     "name": "stdout",
     "output_type": "stream",
     "text": [
      "ok\n",
      "this\n"
     ]
    }
   ],
   "source": [
    "s1=\"this this is is is ok ok\"\n",
    "\n",
    "stringinlist=s1.split(\" \")\n",
    "listofcount=[]\n",
    "mostrepeatedword=[]\n",
    "\n",
    "#count=lambda x: s1.count(x)\n",
    "\n",
    "for i in stringinlist:\n",
    "    listofcount.append(stringinlist.count(i))\n",
    "    \n",
    "#listofcount.sort(reverse=True)\n",
    "#print(sorted(set(listofcount))[-2])\n",
    "\n",
    "for i in stringinlist:\n",
    "    if(stringinlist.count(i)==sorted(set(listofcount))[-2]):\n",
    "        mostrepeatedword.append(i)\n",
    "        #break\n",
    "#print(set(mostrepeatedword))\n",
    "\n",
    "for i in set(mostrepeatedword):\n",
    "    print(i)"
   ]
  },
  {
   "cell_type": "markdown",
   "metadata": {},
   "source": [
    "Q13. Write the Python program to find the minimum window in the given\n",
    "string, which will contains all the characters of another given\n",
    "strings?\n",
    "\n",
    "    Example 1\n",
    "    Input : string1 = \" PRWSOERIUSFK \"\n",
    "    string2 = \" OSU \"\n",
    "    Output: Minimum window is \"OERIUS\""
   ]
  },
  {
   "cell_type": "code",
   "execution_count": 131,
   "metadata": {},
   "outputs": [
    {
     "name": "stdout",
     "output_type": "stream",
     "text": [
      "Input : string1 = PRWSOERIUSFK\n",
      "string2 = OSU\n",
      "Output: Minimum window is OERIUS\n"
     ]
    }
   ],
   "source": [
    "string1 = input(\"Input : string1 = \")\n",
    "string2 = input(\"string2 = \")\n",
    "\n",
    "\n",
    "alllettersconatained=[]\n",
    "\n",
    "def get_all_substrings(string):\n",
    "    length = len(string)\n",
    "    for i in range(length):\n",
    "        for j in range(i + 1, length + 1):\n",
    "            yield(string[i:j]) \n",
    "\n",
    "for i in get_all_substrings(string1):\n",
    "   # print (i)\n",
    "    k=0\n",
    "    for j in string2:        \n",
    "        if j in i: \n",
    "            continue\n",
    "        else:\n",
    "            k=1\n",
    "    if(k==0):\n",
    "        alllettersconatained.append(i)\n",
    "    \n",
    "#print(alllettersconatained)\n",
    "\n",
    "finnal=\"\"\n",
    "j=len(string1)\n",
    "for i in alllettersconatained:\n",
    "    if(len(i)<=j):\n",
    "        final=i\n",
    "        j=len(i)\n",
    "\n",
    "print(\"Output: Minimum window is \"+final)"
   ]
  },
  {
   "cell_type": "markdown",
   "metadata": {},
   "source": [
    "Q14. Write the Python program to count number of substrings from a\n",
    "given string of lowercase alphabets with exactly k distinct (given)\n",
    "characters?\n",
    "\n",
    "    Input a string (lowercase alphabets): wolf\n",
    "    Input k: 4\n",
    "    Number of substrings with exactly 4 distinct characters: 1"
   ]
  },
  {
   "cell_type": "code",
   "execution_count": 102,
   "metadata": {},
   "outputs": [
    {
     "name": "stdout",
     "output_type": "stream",
     "text": [
      "Input a string (lowercase alphabets): wolf\n",
      "Input k: 4\n",
      "Number of substrings with exactly 4 distinct characters:  1\n"
     ]
    }
   ],
   "source": [
    "str1=input(\"Input a string (lowercase alphabets): \")\n",
    "k= int(input(\"Input k: \"))\n",
    "count=0\n",
    "settoreturn=set()\n",
    "\n",
    "for i in range(0,len(str1)-k+1):\n",
    "    \n",
    "    if(len((str1[i:(i+k+1)]))==len(set((str1[i:(i+k+1)])))):\n",
    "        #print(str1[i:(i+k)])\n",
    "        settoreturn.add(str1[i:(i+k)])\n",
    "\n",
    "#print(settoreturn)\n",
    "print(\"Number of substrings with exactly 4 distinct characters: \",len(settoreturn))\n"
   ]
  },
  {
   "cell_type": "markdown",
   "metadata": {},
   "source": [
    "Q15. Write the Python program to count number of substrings with same\n",
    "first and last characters of the given string?\n",
    "\n",
    "    Input a string: abcd\n",
    "    4\n"
   ]
  },
  {
   "cell_type": "code",
   "execution_count": 6,
   "metadata": {},
   "outputs": [
    {
     "name": "stdout",
     "output_type": "stream",
     "text": [
      "Input a string: abcd\n",
      "4\n"
     ]
    }
   ],
   "source": [
    "def get_all_substrings(string):\n",
    "    length = len(string)\n",
    "    for i in range(length):\n",
    "        for j in range(i + 1, length + 1):\n",
    "            yield(string[i:j]) \n",
    "count=0\n",
    "for i in get_all_substrings(input(\"Input a string: \")):\n",
    "      if(i[0]==i[-1]):\n",
    "            #print(i)\n",
    "            count+=1\n",
    "\n",
    "print(count)"
   ]
  },
  {
   "cell_type": "markdown",
   "metadata": {},
   "source": [
    "## Great Job!"
   ]
  }
 ],
 "metadata": {
  "kernelspec": {
   "display_name": "Python 3",
   "language": "python",
   "name": "python3"
  },
  "language_info": {
   "codemirror_mode": {
    "name": "ipython",
    "version": 3
   },
   "file_extension": ".py",
   "mimetype": "text/x-python",
   "name": "python",
   "nbconvert_exporter": "python",
   "pygments_lexer": "ipython3",
   "version": "3.7.3"
  }
 },
 "nbformat": 4,
 "nbformat_minor": 2
}
