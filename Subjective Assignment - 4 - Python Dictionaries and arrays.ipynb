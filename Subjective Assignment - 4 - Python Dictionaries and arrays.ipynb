{
 "cells": [
  {
   "cell_type": "markdown",
   "metadata": {},
   "source": [
    "# Assignment"
   ]
  },
  {
   "cell_type": "markdown",
   "metadata": {},
   "source": [
    "Q1. Write the Python program to create an instance of an OrderedDict \n",
    "using the given dictionary and sort dictionary during the\n",
    "creation and print members of the dictionary in reverse order?\n",
    "\n",
    "    Expected OutputAngola 244.\n",
    "    Andorra 376.\n",
    "    Algeria 213.\n",
    "    Afghanistan 93.\n",
    "    Albania 355.\n",
    "    In reverse orderAlbania 355.\n",
    "    Afghanistan 93.\n",
    "    Algeria 213.\n",
    "    Andorra 376.\n",
    "    Angola 244."
   ]
  },
  {
   "cell_type": "code",
   "execution_count": 34,
   "metadata": {},
   "outputs": [
    {
     "name": "stdout",
     "output_type": "stream",
     "text": [
      "Original Dict =  {'Angola': 244, 'Andorra': 376, 'Algeria': 213, 'Afghanistan': 93, 'Albania': 355}\n",
      "Reversed Dict =  {'Albania': 355, 'Afghanistan': 93, 'Algeria': 213, 'Andorra': 376, 'Angola': 244}\n"
     ]
    }
   ],
   "source": [
    "from collections import OrderedDict\n",
    "\n",
    "d={\"Angola\":244,\"Andorra\":376,\"Algeria\":213,\"Afghanistan\": 93,\"Albania\":355}\n",
    "reverse_d={}\n",
    "print(\"Original Dict = \",d)\n",
    "\n",
    "\n",
    "d1 = OrderedDict.fromkeys(d.keys())\n",
    "\n",
    "for i in range(0,5):\n",
    "   # print(d.popitem())\n",
    "    reverse_d.update({d.popitem()})\n",
    "    \n",
    "print(\"Reversed Dict = \",reverse_d)\n"
   ]
  },
  {
   "cell_type": "markdown",
   "metadata": {},
   "source": [
    "Q2. Write the Python program to compare two unordered lists (not\n",
    "sets)?\n",
    " \n",
    "     Expected Output: False"
   ]
  },
  {
   "cell_type": "code",
   "execution_count": 16,
   "metadata": {},
   "outputs": [
    {
     "name": "stdout",
     "output_type": "stream",
     "text": [
      "False\n"
     ]
    }
   ],
   "source": [
    "L1=['b','c','d','c']\n",
    "L2=['c','b','d','p']\n",
    "\n",
    "L1.sort()\n",
    "L2.sort()\n",
    "\n",
    "if(len(L1) != len(L2)):\n",
    "    print('false')\n",
    "else:\n",
    "    for i in range(0,len(L1)):\n",
    "        if(L1[i]!=L2[i]):\n",
    "            print(\"False\")\n",
    "            break\n",
    "        elif (i==len(L1)-1):\n",
    "            print(\"True\")\n",
    "    "
   ]
  },
  {
   "cell_type": "markdown",
   "metadata": {},
   "source": [
    "Q3. Write the Python program to get an array buffer information?\n",
    "\n",
    "    Expected OutputArray buffer start address in memory and number of elements.\n",
    "    (25855056, 2)\n"
   ]
  },
  {
   "cell_type": "code",
   "execution_count": 9,
   "metadata": {},
   "outputs": [
    {
     "data": {
      "text/plain": [
       "(2176743803976, 2)"
      ]
     },
     "execution_count": 9,
     "metadata": {},
     "output_type": "execute_result"
    }
   ],
   "source": [
    "array=['ak',10]\n",
    "a=(id(array),len(array))\n",
    "a"
   ]
  },
  {
   "cell_type": "markdown",
   "metadata": {},
   "source": [
    "Q4. Write the Python program to convert an array to an array of\n",
    "machine values and return the bytes representation?\n",
    "\n",
    "    Expected OutputOriginal arrayA1: array('i', [1, 2, 3, 4, 5, 6])\n",
    "    Array of bytes:\n",
    "    b'010000000200000003000000040000000500000006000000"
   ]
  },
  {
   "cell_type": "code",
   "execution_count": 14,
   "metadata": {},
   "outputs": [
    {
     "name": "stdout",
     "output_type": "stream",
     "text": [
      "0b1\n",
      "0b10\n",
      "0b111\n"
     ]
    }
   ],
   "source": [
    "array1=[1,2,7]\n",
    "for i in array1:\n",
    "    print(bin(i))"
   ]
  },
  {
   "cell_type": "markdown",
   "metadata": {},
   "source": [
    "Q5. Write the Python program to read a string and interpreting the\n",
    "string as an array of machine values?\n",
    "\n",
    "    Expected Outputarray1- array('i', [7, 8, 9, 10])\n",
    "    Bytes- b'0700000008000000090000000a000000'\n",
    "    array2- array('i', [7, 8, 9, 10])"
   ]
  },
  {
   "cell_type": "code",
   "execution_count": 16,
   "metadata": {},
   "outputs": [
    {
     "name": "stdout",
     "output_type": "stream",
     "text": [
      "Enter a integer values : 84\n",
      "0b1010100\n"
     ]
    }
   ],
   "source": [
    "a=input(\"Enter a integer value : \")\n",
    "\n",
    "b=int(a)\n",
    "print(bin(b))"
   ]
  },
  {
   "cell_type": "markdown",
   "metadata": {},
   "source": [
    "Q6. Write the Python program to push three items into the heap and\n",
    "return the smallest item from the heap. Also, return and pop the\n",
    "smallest item from the heap?\n",
    "    \n",
    "    Expected OutputItems in the heap-\n",
    "    ('VI', 1).\n",
    "    ('VII', 3).\n",
    "    ('VIII', 2).\n",
    "    ----------------------\n",
    "    The smallest item in the heap:\n",
    "    ('VI', 1).\n",
    "     ----------------------\n",
    "    Pop the smallest item in the heap:\n",
    "    ('VII', 2).\n",
    "    ('VIII', 3)."
   ]
  },
  {
   "cell_type": "code",
   "execution_count": 42,
   "metadata": {},
   "outputs": [
    {
     "name": "stdout",
     "output_type": "stream",
     "text": [
      "Expected OutputItems in the heap-  [('VI', 1), ('VII', 3), ('VIII', 2)]\n",
      "The smallest item in the heap:  ('VI', 1)\n",
      "Pop the smallest item in the heap:  [('VII', 3), ('VIII', 2)]\n"
     ]
    }
   ],
   "source": [
    "import heapq \n",
    "  \n",
    "l1 =[]\n",
    "  \n",
    "heapq.heappush(l1,('VI', 1)) \n",
    "heapq.heappush(l1,('VII', 3))\n",
    "heapq.heappush(l1,('VIII', 2))\n",
    "\n",
    "print(\"Expected OutputItems in the heap- \",l1)\n",
    "\n",
    "print(\"The smallest item in the heap: \",(heapq.heappop(l1)))\n",
    "\n",
    "print(\"Pop the smallest item in the heap: \",l1)"
   ]
  },
  {
   "cell_type": "markdown",
   "metadata": {},
   "source": [
    "Q7. Write the Python program to locate the left insertion point for a\n",
    "specified value in sorted order?\n",
    "\n",
    "    Expected Output:\n",
    "    4\n",
    "    2"
   ]
  },
  {
   "cell_type": "code",
   "execution_count": 8,
   "metadata": {},
   "outputs": [
    {
     "name": "stdout",
     "output_type": "stream",
     "text": [
      "3 2\n"
     ]
    }
   ],
   "source": [
    "a=[0,1,7,8]\n",
    "\n",
    "def Insertion_Point(n):\n",
    "    a.append(n)\n",
    "    a.sort()    \n",
    "    print(n,a.index(n))\n",
    "    \n",
    "\n",
    "Left_Insertion(3)"
   ]
  },
  {
   "cell_type": "markdown",
   "metadata": {},
   "source": [
    "Q8. Write the Python program to create the FIFO queue?\n",
    "\n",
    "    Expected Output:\n",
    "    0 1 2 3"
   ]
  },
  {
   "cell_type": "code",
   "execution_count": 12,
   "metadata": {},
   "outputs": [
    {
     "name": "stdout",
     "output_type": "stream",
     "text": [
      "0\n",
      "1\n",
      "2\n",
      "3\n"
     ]
    }
   ],
   "source": [
    "import queue\n",
    "q = queue.Queue()\n",
    "\n",
    "for x in range(4):\n",
    "    q.put(x)\n",
    "    \n",
    "while not q.empty():\n",
    "    print(q.get())\n"
   ]
  },
  {
   "cell_type": "markdown",
   "metadata": {},
   "source": [
    "Q9. Write the Python program to calculate the harmonic sum of n-1.\n",
    " Note: The harmonic sum is the sum of reciprocals of the positive\n",
    "Integers?\n",
    "\n",
    "    Example:\n",
    "    1+1/2+1/3+1/4+1/5+...."
   ]
  },
  {
   "cell_type": "code",
   "execution_count": 23,
   "metadata": {},
   "outputs": [
    {
     "name": "stdout",
     "output_type": "stream",
     "text": [
      "2.283333333333333\n"
     ]
    }
   ],
   "source": [
    "def Harmonic_Sum(n):\n",
    "    sum=1\n",
    "    for i in range(1,n):\n",
    "        sum+=(1/(i+1))\n",
    "    print(sum)   \n",
    "Harmonic_Sum(5)\n"
   ]
  },
  {
   "cell_type": "markdown",
   "metadata": {},
   "source": [
    "## Great Job!"
   ]
  }
 ],
 "metadata": {
  "kernelspec": {
   "display_name": "Python 3",
   "language": "python",
   "name": "python3"
  },
  "language_info": {
   "codemirror_mode": {
    "name": "ipython",
    "version": 3
   },
   "file_extension": ".py",
   "mimetype": "text/x-python",
   "name": "python",
   "nbconvert_exporter": "python",
   "pygments_lexer": "ipython3",
   "version": "3.7.3"
  }
 },
 "nbformat": 4,
 "nbformat_minor": 2
}
