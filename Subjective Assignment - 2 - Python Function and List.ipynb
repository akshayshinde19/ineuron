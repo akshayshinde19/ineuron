{
 "cells": [
  {
   "cell_type": "markdown",
   "metadata": {},
   "source": [
    "# Assignments"
   ]
  },
  {
   "cell_type": "markdown",
   "metadata": {},
   "source": [
    "Q1. Write the Python function to get a string made of 4 copies of the last\n",
    "two characters of the specified string (length must be at least 2).\n",
    "\n",
    "    Sample function and result :\n",
    "    insert-end ('Python') -> abababab\n",
    "    insert-end('Exercises') -> jkjkjkjk"
   ]
  },
  {
   "cell_type": "code",
   "execution_count": 5,
   "metadata": {},
   "outputs": [
    {
     "name": "stdout",
     "output_type": "stream",
     "text": [
      "Enter a string of atleast lenth 2 : python\n",
      "onononon\n"
     ]
    }
   ],
   "source": [
    "def four_coupies(s):\n",
    "    if(len(s)<2):\n",
    "        return \"String length is less than 2\"\n",
    "    return s[-2:]*4\n",
    "    \n",
    "print(four_coupies(input(\"Enter a string of atleast lenth 2 : \")))"
   ]
  },
  {
   "cell_type": "markdown",
   "metadata": {},
   "source": [
    "Q2. Write the python function to get a string made of its first three\n",
    "characters of a specified string. If the length of the string is less than 3\n",
    "then return the original string.\n",
    "    \n",
    "    Sample function and result :\n",
    "    first-three('ipy') -> ipy\n",
    "    first-three('python') -> pyt"
   ]
  },
  {
   "cell_type": "code",
   "execution_count": 7,
   "metadata": {},
   "outputs": [
    {
     "name": "stdout",
     "output_type": "stream",
     "text": [
      "Enter a string : python\n",
      "pyt\n"
     ]
    }
   ],
   "source": [
    "def first_three_char(s):\n",
    "    if(len(s)<3):\n",
    "        return s\n",
    "    return s[0:3]\n",
    "    \n",
    "print(first_three_char(input(\"Enter a string : \")))"
   ]
  },
  {
   "cell_type": "markdown",
   "metadata": {},
   "source": [
    "Q3. Write the Python program to find smallest window that contains all\n",
    "characters of the given string?\n",
    "\n",
    "    Original Strings:\n",
    "    asdaewsqgtwwsa\n",
    "    Smallest window that contains all characters of the said string:\n",
    "    Daewsqgt"
   ]
  },
  {
   "cell_type": "code",
   "execution_count": 9,
   "metadata": {},
   "outputs": [
    {
     "name": "stdout",
     "output_type": "stream",
     "text": [
      "Enter a string: asdaewsqgtwwsa\n",
      "Smallest window that contains all characters of the said string:  daewsqgt\n"
     ]
    }
   ],
   "source": [
    "def get_all_substrings(string):\n",
    "    length = len(string)\n",
    "    for i in range(length):\n",
    "        for j in range(i + 1, length + 1):\n",
    "            yield(string[i:j]) \n",
    "            \n",
    "s=input(\"Enter a string: \")\n",
    "j=[]\n",
    "for i in get_all_substrings(s.low):\n",
    "    #print(\"\".join(sorted(list(set(s)))))\n",
    "    #print(sorted(i))\n",
    "     if( (\"\".join(sorted(list(set(s))))) in \"\".join(sorted(i)) ):\n",
    "        j.append(i)\n",
    "        \n",
    "print(\"Smallest window that contains all characters of the said string: \",min(j, key=len))"
   ]
  },
  {
   "cell_type": "markdown",
   "metadata": {},
   "source": [
    "Q4. Write the Python program to count number of substrings from a\n",
    "given string of lowercase alphabets with exactly k distinct (given)\n",
    "characters?\n",
    "\n",
    "    Input a string (lowercase alphabets): wolf\n",
    "    Input k: 4\n",
    "    Number of substrings with exactly 4 distinct characters: 1"
   ]
  },
  {
   "cell_type": "code",
   "execution_count": 10,
   "metadata": {},
   "outputs": [
    {
     "name": "stdout",
     "output_type": "stream",
     "text": [
      "Input a string (lowercase alphabets): wolf\n",
      "Input k: 4\n",
      "Number of substrings with exactly 4 distinct characters:  1\n"
     ]
    }
   ],
   "source": [
    "str1=input(\"Input a string (lowercase alphabets): \")\n",
    "k= int(input(\"Input k: \"))\n",
    "count=0\n",
    "settoreturn=set()\n",
    "\n",
    "for i in range(0,len(str1)-k+1):\n",
    "    \n",
    "    if(len((str1[i:(i+k+1)]))==len(set((str1[i:(i+k+1)])))):\n",
    "        #print(str1[i:(i+k)])\n",
    "        settoreturn.add(str1[i:(i+k)])\n",
    "\n",
    "#print(settoreturn)\n",
    "print(\"Number of substrings with exactly 4 distinct characters: \",len(settoreturn))"
   ]
  },
  {
   "cell_type": "markdown",
   "metadata": {},
   "source": [
    "Q5. Write the Python program to count number of non-empty\n",
    "substrings of the given string?\n",
    "\n",
    "    Input a string: w3resource\n",
    "    Number of substrings:\n",
    "    55"
   ]
  },
  {
   "cell_type": "code",
   "execution_count": 11,
   "metadata": {},
   "outputs": [
    {
     "name": "stdout",
     "output_type": "stream",
     "text": [
      "Enter a string: w3resource\n",
      "Number of substrings:  55\n"
     ]
    }
   ],
   "source": [
    "def get_all_substrings(string):\n",
    "    length = len(string)\n",
    "    for i in range(length):\n",
    "        for j in range(i + 1, length + 1):\n",
    "            yield(string[i:j]) \n",
    "            \n",
    "count=0\n",
    "\n",
    "for i in get_all_substrings(input(\"Enter a string: \")):\n",
    "    count+=1\n",
    "    \n",
    "print(\"Number of substrings: \", count)"
   ]
  },
  {
   "cell_type": "markdown",
   "metadata": {},
   "source": [
    "Q6. Write the Python program to count the number of strings where the\n",
    "string length is 2 or more, and first and last character are same\n",
    "from a given list of strings.\n",
    "\n",
    "    Sample List : ['abc', 'xyz', 'wxw', '1331']\n",
    "    Expected Result: 2"
   ]
  },
  {
   "cell_type": "code",
   "execution_count": 22,
   "metadata": {},
   "outputs": [
    {
     "name": "stdout",
     "output_type": "stream",
     "text": [
      "2\n"
     ]
    }
   ],
   "source": [
    "first_and_last_check = lambda a : a[0]==a[-1]\n",
    "\n",
    "Sample_List = ['abc', 'xyz', 'wxw', '1331']\n",
    "count=0\n",
    "for i in Sample_List:\n",
    "    if len(i)>=2:\n",
    "        if (first_and_last_check(i)):\n",
    "            count+=1\n",
    "            \n",
    "print(count)"
   ]
  },
  {
   "cell_type": "markdown",
   "metadata": {},
   "source": [
    "Q7. Write the Python program to get a list, sorted in increasing order by\n",
    "the last element in each tuple from the given list of non-empty\n",
    "tuples?\n",
    "\n",
    "    Sample List - [ (2, 5), (1, 2), (4, 4), (2, 3), (2, 1) ]\n",
    "    Expected Result - [ (2, 1), (1, 2), (2, 3), (4, 4), (2, 5) ]"
   ]
  },
  {
   "cell_type": "code",
   "execution_count": 34,
   "metadata": {},
   "outputs": [
    {
     "name": "stdout",
     "output_type": "stream",
     "text": [
      "[(2, 1), (1, 2), (2, 3), (4, 4), (2, 5)]\n"
     ]
    }
   ],
   "source": [
    "Sample_List = [ (2, 5), (1, 2), (4, 4), (2, 3), (2, 1) ]\n",
    "Expected_Result_List=[]\n",
    "last_element=[]\n",
    "for i in Sample_List:\n",
    "    last_element.append(i[-1])\n",
    "    \n",
    "\n",
    "last_element.sort()\n",
    "\n",
    "for i in last_element:\n",
    "    for j in Sample_List:\n",
    "        if(j[-1]==i):\n",
    "            Expected_Result_List.append(j)\n",
    "            \n",
    "print(Expected_Result_List)\n",
    "    "
   ]
  },
  {
   "cell_type": "markdown",
   "metadata": {},
   "source": [
    "Q8. Write the Python program to remove duplicates from a list?"
   ]
  },
  {
   "cell_type": "code",
   "execution_count": 40,
   "metadata": {},
   "outputs": [
    {
     "name": "stdout",
     "output_type": "stream",
     "text": [
      "{'wxw', 'xyz', 'abc', '1331'}\n"
     ]
    }
   ],
   "source": [
    "def remove_duplicate(l):\n",
    "    return set(list(l))\n",
    "\n",
    "print(remove_duplicate(['abc', 'xyz', 'wxw', '1331','abc','xyz']))"
   ]
  },
  {
   "cell_type": "markdown",
   "metadata": {},
   "source": [
    "Q9. Write the Python program to find the list of words that are longer\n",
    "than n from a given list of words?"
   ]
  },
  {
   "cell_type": "code",
   "execution_count": 6,
   "metadata": {},
   "outputs": [
    {
     "name": "stdout",
     "output_type": "stream",
     "text": [
      "Enter a sentence: ok this is a sentence\n",
      "enter n: 2\n",
      "['this', 'sentence']\n"
     ]
    }
   ],
   "source": [
    "def longer_than_n(s,n):\n",
    "    list_to_return=[]\n",
    "    \n",
    "    for i in list(s.split()):\n",
    "        if(len(i)>int(n)):\n",
    "            list_to_return.append(i)\n",
    "    return list_to_return\n",
    "    \n",
    "print(longer_than_n(input(\"Enter a sentence: \"),input(\"enter n: \")))"
   ]
  },
  {
   "cell_type": "markdown",
   "metadata": {},
   "source": [
    "Q10. Write the Python program to print a specified list after removing the\n",
    "0th, 4th, and 5th elements?\n",
    "    \n",
    "    Sample List - ['Red', 'Green', 'White', 'Black', 'Pink', 'Yellow']\n",
    "    Expected Output - ['Green', 'White', 'Black']"
   ]
  },
  {
   "cell_type": "code",
   "execution_count": 8,
   "metadata": {},
   "outputs": [
    {
     "name": "stdout",
     "output_type": "stream",
     "text": [
      "['Green', 'White', 'Black']\n"
     ]
    }
   ],
   "source": [
    "Sample_List = ['Red', 'Green', 'White', 'Black', 'Pink', 'Yellow']\n",
    "Expected_Output=[]\n",
    "for i in range(0,len(Sample_List)):\n",
    "    if(i not in [0,4,5]):\n",
    "        Expected_Output.append(Sample_List[i])\n",
    "        \n",
    "print(Expected_Output)    "
   ]
  },
  {
   "cell_type": "markdown",
   "metadata": {},
   "source": [
    "Q11. Write the Python program to generate all permutations of a list in\n",
    "Python?"
   ]
  },
  {
   "cell_type": "code",
   "execution_count": 14,
   "metadata": {},
   "outputs": [
    {
     "name": "stdout",
     "output_type": "stream",
     "text": [
      "[(1, 2, 3, 4), (1, 2, 4, 3), (1, 3, 2, 4), (1, 3, 4, 2), (1, 4, 2, 3), (1, 4, 3, 2), (2, 1, 3, 4), (2, 1, 4, 3), (2, 3, 1, 4), (2, 3, 4, 1), (2, 4, 1, 3), (2, 4, 3, 1), (3, 1, 2, 4), (3, 1, 4, 2), (3, 2, 1, 4), (3, 2, 4, 1), (3, 4, 1, 2), (3, 4, 2, 1), (4, 1, 2, 3), (4, 1, 3, 2), (4, 2, 1, 3), (4, 2, 3, 1), (4, 3, 1, 2), (4, 3, 2, 1)]\n"
     ]
    }
   ],
   "source": [
    "import itertools\n",
    "print(list(itertools.permutations([1,2,3,4])))"
   ]
  },
  {
   "cell_type": "markdown",
   "metadata": {},
   "source": [
    "Q12. Write the Python program to convert a pair of values into a sorted\n",
    "unique array?\n",
    " \n",
    "    Original List- [ (1, 2), (3, 4), (1, 2), (5, 6), (7, 8), (1, 2), (3, 4), (3, 4), (7, 8), (9, 10) ]\n",
    "    Sorted Unique Data- [ 1, 2, 3, 4, 5, 6, 7, 8, 9, 10 ] \n"
   ]
  },
  {
   "cell_type": "code",
   "execution_count": 15,
   "metadata": {},
   "outputs": [
    {
     "name": "stdout",
     "output_type": "stream",
     "text": [
      "[1, 2, 3, 4, 5, 6, 7, 8, 9, 10]\n"
     ]
    }
   ],
   "source": [
    "Original_List = [ (1, 2), (3, 4), (1, 2), (5, 6), (7, 8), (1, 2), (3, 4), (3, 4), (7, 8), (9, 10) ]\n",
    "s=set()\n",
    "for i in Original_List:\n",
    "    for j in range(0,2):\n",
    "        s.add(i[j])\n",
    "       \n",
    "print(list(s))\n"
   ]
  },
  {
   "cell_type": "markdown",
   "metadata": {},
   "source": [
    "## Great job!"
   ]
  }
 ],
 "metadata": {
  "kernelspec": {
   "display_name": "Python 3",
   "language": "python",
   "name": "python3"
  },
  "language_info": {
   "codemirror_mode": {
    "name": "ipython",
    "version": 3
   },
   "file_extension": ".py",
   "mimetype": "text/x-python",
   "name": "python",
   "nbconvert_exporter": "python",
   "pygments_lexer": "ipython3",
   "version": "3.7.3"
  }
 },
 "nbformat": 4,
 "nbformat_minor": 2
}
